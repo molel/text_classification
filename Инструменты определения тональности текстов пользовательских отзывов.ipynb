{
  "cells": [
    {
      "cell_type": "markdown",
      "metadata": {
        "id": "-tUo1UhAIkyO"
      },
      "source": [
        "# Подключение Google Drive и библиотек"
      ]
    },
    {
      "cell_type": "code",
      "execution_count": 2,
      "metadata": {
        "colab": {
          "base_uri": "https://localhost:8080/"
        },
        "id": "w5mEM4Jsaeun",
        "outputId": "1a0f4b7a-5aec-48ac-e220-d9defbc1f6ba"
      },
      "outputs": [
        {
          "output_type": "stream",
          "name": "stdout",
          "text": [
            "Looking in indexes: https://pypi.org/simple, https://us-python.pkg.dev/colab-wheels/public/simple/\n",
            "Collecting pymorphy2\n",
            "  Downloading pymorphy2-0.9.1-py3-none-any.whl (55 kB)\n",
            "\u001b[2K     \u001b[90m━━━━━━━━━━━━━━━━━━━━━━━━━━━━━━━━━━━━━━━━\u001b[0m \u001b[32m55.5/55.5 kB\u001b[0m \u001b[31m8.6 MB/s\u001b[0m eta \u001b[36m0:00:00\u001b[0m\n",
            "\u001b[?25hCollecting pymorphy2-dicts-ru<3.0,>=2.4\n",
            "  Downloading pymorphy2_dicts_ru-2.4.417127.4579844-py2.py3-none-any.whl (8.2 MB)\n",
            "\u001b[2K     \u001b[90m━━━━━━━━━━━━━━━━━━━━━━━━━━━━━━━━━━━━━━━━\u001b[0m \u001b[32m8.2/8.2 MB\u001b[0m \u001b[31m93.5 MB/s\u001b[0m eta \u001b[36m0:00:00\u001b[0m\n",
            "\u001b[?25hCollecting dawg-python>=0.7.1\n",
            "  Downloading DAWG_Python-0.7.2-py2.py3-none-any.whl (11 kB)\n",
            "Collecting docopt>=0.6\n",
            "  Downloading docopt-0.6.2.tar.gz (25 kB)\n",
            "  Preparing metadata (setup.py) ... \u001b[?25l\u001b[?25hdone\n",
            "Building wheels for collected packages: docopt\n",
            "  Building wheel for docopt (setup.py) ... \u001b[?25l\u001b[?25hdone\n",
            "  Created wheel for docopt: filename=docopt-0.6.2-py2.py3-none-any.whl size=13721 sha256=fb8e50c85ae30399e144bfded0dbff4efe62a408c0facfe59502fa5ed71aae5d\n",
            "  Stored in directory: /root/.cache/pip/wheels/fc/ab/d4/5da2067ac95b36618c629a5f93f809425700506f72c9732fac\n",
            "Successfully built docopt\n",
            "Installing collected packages: pymorphy2-dicts-ru, docopt, dawg-python, pymorphy2\n",
            "Successfully installed dawg-python-0.7.2 docopt-0.6.2 pymorphy2-0.9.1 pymorphy2-dicts-ru-2.4.417127.4579844\n"
          ]
        }
      ],
      "source": [
        "!pip install pymorphy2"
      ]
    },
    {
      "cell_type": "code",
      "execution_count": 3,
      "metadata": {
        "id": "jK_4x3iTJZW2",
        "colab": {
          "base_uri": "https://localhost:8080/"
        },
        "outputId": "307f5c21-908a-4189-f990-dc7f392db8a5"
      },
      "outputs": [
        {
          "output_type": "stream",
          "name": "stdout",
          "text": [
            "Mounted at /content/drive\n"
          ]
        }
      ],
      "source": [
        "from google.colab import drive\n",
        "drive.mount('/content/drive')"
      ]
    },
    {
      "cell_type": "code",
      "execution_count": 4,
      "metadata": {
        "id": "iQ9JAksQJgUL"
      },
      "outputs": [],
      "source": [
        "import pandas as pd\n",
        "\n",
        "import torch\n",
        "from torch.utils.data import Dataset, DataLoader\n",
        "from torch.nn.modules.loss import _Loss\n",
        "from torch import nn\n",
        "from torch import optim\n",
        "\n",
        "from sklearn.model_selection import train_test_split\n",
        "from sklearn.metrics import accuracy_score, precision_score, recall_score, f1_score\n",
        "\n",
        "from matplotlib import pyplot as plt\n",
        "\n",
        "import nltk\n",
        "from nltk import word_tokenize\n",
        "from nltk.corpus import stopwords\n",
        "\n",
        "from pymorphy2 import MorphAnalyzer\n",
        "\n",
        "from collections import defaultdict"
      ]
    },
    {
      "cell_type": "code",
      "execution_count": 5,
      "metadata": {
        "colab": {
          "base_uri": "https://localhost:8080/"
        },
        "id": "tyXZysvYa3g5",
        "outputId": "ae4f1ecf-6a4d-4c64-ce4b-58892ae6820f"
      },
      "outputs": [
        {
          "output_type": "stream",
          "name": "stderr",
          "text": [
            "[nltk_data] Downloading package punkt to /root/nltk_data...\n",
            "[nltk_data]   Unzipping tokenizers/punkt.zip.\n",
            "[nltk_data] Downloading package stopwords to /root/nltk_data...\n",
            "[nltk_data]   Unzipping corpora/stopwords.zip.\n"
          ]
        },
        {
          "output_type": "execute_result",
          "data": {
            "text/plain": [
              "True"
            ]
          },
          "metadata": {},
          "execution_count": 5
        }
      ],
      "source": [
        "nltk.download('punkt')\n",
        "nltk.download('stopwords')"
      ]
    },
    {
      "cell_type": "markdown",
      "metadata": {
        "id": "avzi5-aWJjN2"
      },
      "source": [
        "# Определение инструментальных параметров"
      ]
    },
    {
      "cell_type": "code",
      "execution_count": 6,
      "metadata": {
        "id": "wpgkA_AHJq2t"
      },
      "outputs": [],
      "source": [
        "DATA_PATH = '/content/drive/MyDrive/datasets/ready2020.csv'\n",
        "DEVICE = 'cuda' if torch.cuda.is_available() else 'cpu'"
      ]
    },
    {
      "cell_type": "markdown",
      "metadata": {
        "id": "YSV7p6loLrJW"
      },
      "source": [
        "# Прикладные функции"
      ]
    },
    {
      "cell_type": "markdown",
      "metadata": {
        "id": "npGreD74weYV"
      },
      "source": [
        "## Обработка данных"
      ]
    },
    {
      "cell_type": "code",
      "execution_count": 7,
      "metadata": {
        "id": "qGmYWgeBLtSe"
      },
      "outputs": [],
      "source": [
        "def prepare_data(data: pd.DataFrame) -> pd.DataFrame:\n",
        "  data = data.loc[:, ['text', 'stars']].rename(columns={\n",
        "        'text': 'data',\n",
        "        'stars': 'target'\n",
        "    })\n",
        "  data = data.dropna().reset_index(drop=True)\n",
        "  data['target'] = data['target'].replace({0.0: 0, 1.0: 0, 3.0: 1, 4.0: 1, 5.0: 2})\n",
        "  return data\n",
        "\n",
        "def balance_data(data: pd.DataFrame, repetitions: int = 2) -> pd.DataFrame:\n",
        "  return pd.concat((data, *([data[data['target'] != 2]] * repetitions))).sample(frac=1).reset_index(drop=True)\n",
        "\n",
        "def preprocess_data(data: pd.DataFrame) -> pd.DataFrame:\n",
        "  data['data'] = data['data'].str.lower().replace(r'[^а-я]', ' ', regex=True)\n",
        "  morph_analyzer = MorphAnalyzer()\n",
        "  stop_words = stopwords.words('russian')\n",
        "  data['data'] = data['data'].map(lambda x: lemmatize(x, morph_analyzer, stop_words))\n",
        "  return data\n",
        "\n",
        "def lemmatize(data: str, morph_analyzer: MorphAnalyzer, stop_words: list[str]) -> str:\n",
        "  result = []\n",
        "  for word in word_tokenize(data):\n",
        "    word = morph_analyzer.parse(word)[0]\n",
        "    if word.is_known and word.normal_form not in stop_words:\n",
        "      result.append(word.normal_form)\n",
        "  return ' '.join(result)\n",
        "\n"
      ]
    },
    {
      "cell_type": "markdown",
      "metadata": {
        "id": "ZuJc5Ee2whXQ"
      },
      "source": [
        "## Метрики и графики"
      ]
    },
    {
      "cell_type": "code",
      "execution_count": 69,
      "metadata": {
        "id": "bmNJXf1u0GC5"
      },
      "outputs": [],
      "source": [
        "def show_balance(datas: tuple[pd.Series], labels: tuple[str]) -> None:\n",
        "  plt.title('Распределение данных по группам')\n",
        "  for data, label in zip(datas, labels):\n",
        "    plt.hist(data, bins=3, label=label, rwidth=0.9)\n",
        "  plt.ylabel('Кол-во данных в группе')\n",
        "  plt.xlabel('Группа')\n",
        "  plt.xticks((0.33, 1, 1.66), ('Негативные', 'Нейтральные', 'Позитивные'))\n",
        "  plt.legend()\n",
        "\n",
        "def metrics(nn_true: torch.Tensor, nn_pred: torch.Tensor, dict_true: pd.Series, dict_pred: pd.Series) -> pd.DataFrame:\n",
        "  df = pd.DataFrame([], index=['accuracy', 'precision', 'recall', 'f1'], columns=['NN', 'Dict'])\n",
        "  \n",
        "  df.loc['accuracy', ['NN', 'Dict']] = (accuracy_score(nn_true, nn_pred), accuracy_score(dict_true, dict_pred))\n",
        "  df.loc['precision', ['NN', 'Dict']] = (precision_score(nn_true, nn_pred, average='macro'), precision_score(dict_true, dict_pred, average='macro'))\n",
        "  df.loc['recall', ['NN', 'Dict']] = (recall_score(nn_true, nn_pred, average='macro'), recall_score(dict_true, dict_pred, average='macro'))\n",
        "  df.loc['f1', ['NN', 'Dict']] = (f1_score(nn_true, nn_pred, average='macro'), f1_score(dict_true, dict_pred, average='macro'))\n",
        "  \n",
        "  return df"
      ]
    },
    {
      "cell_type": "markdown",
      "metadata": {
        "id": "cXmH7kI2J1uP"
      },
      "source": [
        "## Обучение и тестирование нейронной сети"
      ]
    },
    {
      "cell_type": "code",
      "execution_count": 9,
      "metadata": {
        "id": "W3kHRZ04J4ks"
      },
      "outputs": [],
      "source": [
        "def train_loop(dataloader: DataLoader, model: nn.Module, loss_fn: _Loss, optimizer: optim.Optimizer):\n",
        "  size = len(dataloader.dataset)\n",
        "  for batch, (X, y) in enumerate(dataloader):\n",
        "    X, y = X.to(DEVICE), y.to(DEVICE)\n",
        "    pred = model(X)\n",
        "    loss = loss_fn(pred, y)\n",
        "    optimizer.zero_grad()\n",
        "    loss.backward()\n",
        "    optimizer.step()\n",
        "    if batch % 10 == 0:\n",
        "        loss, current = loss.item(), (batch + 1) * len(X)\n",
        "        print(f\"loss: {loss:>7f}  [{current:>5d}/{size:>5d}]\")\n",
        "\n",
        "\n",
        "def test_loop(dataloader, model, loss_fn):\n",
        "  size = len(dataloader.dataset)\n",
        "  num_batches = len(dataloader)\n",
        "  test_loss, correct = 0, 0\n",
        "  with torch.no_grad():\n",
        "    for X, y in dataloader:\n",
        "      X, y = X.to(DEVICE), y.to(DEVICE)\n",
        "      pred = model(X)\n",
        "      test_loss += loss_fn(pred, y).item()\n",
        "      correct += (pred.argmax(1) == y).type(torch.float).sum().item()\n",
        "  test_loss /= num_batches\n",
        "  correct /= size\n",
        "  print(f\"Test Error: \\n Accuracy: {(100*correct):>0.1f}%, Avg loss: {test_loss:>8f} \\n\")"
      ]
    },
    {
      "cell_type": "markdown",
      "metadata": {
        "id": "88bfy9jvLuOA"
      },
      "source": [
        "# Описание задачи и набора данных"
      ]
    },
    {
      "cell_type": "code",
      "execution_count": 58,
      "metadata": {
        "colab": {
          "base_uri": "https://localhost:8080/",
          "height": 423
        },
        "id": "FCDFoBHNL2C3",
        "outputId": "03de2512-41d2-40ef-898a-4db5aea44c25"
      },
      "outputs": [
        {
          "output_type": "execute_result",
          "data": {
            "text/plain": [
              "                    date                name  stars  \\\n",
              "1          29 марта 2020              ЯНатка    2.0   \n",
              "2          21 марта 2020             Анна М.    5.0   \n",
              "3        28 декабря 2020                Фима    5.0   \n",
              "4           28 июня 2020          Игорь Юдин    5.0   \n",
              "5         28 ноября 2020            Ольга -.    1.0   \n",
              "...                  ...                 ...    ...   \n",
              "103909      9 марта 2020       Иван Кузнецов    1.0   \n",
              "103910  27 сентября 2020            Мария З.    4.0   \n",
              "103911   12 октября 2020          Валерия Л.    5.0   \n",
              "103912   26 августа 2020        эрик моралес    5.0   \n",
              "103913      5 марта 2020  Евгений Жаворонков    4.0   \n",
              "\n",
              "                                                     text          X  \\\n",
              "1       Были на экскурсии. Я очень люблю производствен...  37.599740   \n",
              "2       Часто ходим в это кафе. Красивый интерьер, оче...  37.599740   \n",
              "3       Вкусное мороженое. С кофе и яблочным пирогом с...  37.599740   \n",
              "4       Хорошее мороженное, разнообразие выбора и вкус...  37.599740   \n",
              "5       Ставлю одну звезду лишь за вкусное мороженое. ...  37.599740   \n",
              "...                                                   ...        ...   \n",
              "103909  Зашли покурить кальян, попить чаю. Заказали ка...  37.593007   \n",
              "103910  Мне понравилось. Быстро подошла официантка, бы...  37.593007   \n",
              "103911  Очень вкусно, турецкая атмосфера🇹🇷Все понравил...  37.593007   \n",
              "103912  Госпади, как же тут вкусно готовят из простых ...  37.593007   \n",
              "103913  Классное каффе, мясные блюда на 5+! Алкоголь т...  37.593007   \n",
              "\n",
              "                Y              status  \n",
              "1       55.815575    Открыто до 20:00  \n",
              "2       55.815575    Открыто до 20:00  \n",
              "3       55.815575    Открыто до 20:00  \n",
              "4       55.815575    Открыто до 20:00  \n",
              "5       55.815575    Открыто до 20:00  \n",
              "...           ...                 ...  \n",
              "103909  55.750032  Больше не работает  \n",
              "103910  55.750032  Больше не работает  \n",
              "103911  55.750032  Больше не работает  \n",
              "103912  55.750032  Больше не работает  \n",
              "103913  55.750032  Больше не работает  \n",
              "\n",
              "[103913 rows x 7 columns]"
            ],
            "text/html": [
              "\n",
              "  <div id=\"df-c88f0004-8421-4a77-90c9-6dea157b3b6e\">\n",
              "    <div class=\"colab-df-container\">\n",
              "      <div>\n",
              "<style scoped>\n",
              "    .dataframe tbody tr th:only-of-type {\n",
              "        vertical-align: middle;\n",
              "    }\n",
              "\n",
              "    .dataframe tbody tr th {\n",
              "        vertical-align: top;\n",
              "    }\n",
              "\n",
              "    .dataframe thead th {\n",
              "        text-align: right;\n",
              "    }\n",
              "</style>\n",
              "<table border=\"1\" class=\"dataframe\">\n",
              "  <thead>\n",
              "    <tr style=\"text-align: right;\">\n",
              "      <th></th>\n",
              "      <th>date</th>\n",
              "      <th>name</th>\n",
              "      <th>stars</th>\n",
              "      <th>text</th>\n",
              "      <th>X</th>\n",
              "      <th>Y</th>\n",
              "      <th>status</th>\n",
              "    </tr>\n",
              "  </thead>\n",
              "  <tbody>\n",
              "    <tr>\n",
              "      <th>1</th>\n",
              "      <td>29 марта 2020</td>\n",
              "      <td>ЯНатка</td>\n",
              "      <td>2.0</td>\n",
              "      <td>Были на экскурсии. Я очень люблю производствен...</td>\n",
              "      <td>37.599740</td>\n",
              "      <td>55.815575</td>\n",
              "      <td>Открыто до 20:00</td>\n",
              "    </tr>\n",
              "    <tr>\n",
              "      <th>2</th>\n",
              "      <td>21 марта 2020</td>\n",
              "      <td>Анна М.</td>\n",
              "      <td>5.0</td>\n",
              "      <td>Часто ходим в это кафе. Красивый интерьер, оче...</td>\n",
              "      <td>37.599740</td>\n",
              "      <td>55.815575</td>\n",
              "      <td>Открыто до 20:00</td>\n",
              "    </tr>\n",
              "    <tr>\n",
              "      <th>3</th>\n",
              "      <td>28 декабря 2020</td>\n",
              "      <td>Фима</td>\n",
              "      <td>5.0</td>\n",
              "      <td>Вкусное мороженое. С кофе и яблочным пирогом с...</td>\n",
              "      <td>37.599740</td>\n",
              "      <td>55.815575</td>\n",
              "      <td>Открыто до 20:00</td>\n",
              "    </tr>\n",
              "    <tr>\n",
              "      <th>4</th>\n",
              "      <td>28 июня 2020</td>\n",
              "      <td>Игорь Юдин</td>\n",
              "      <td>5.0</td>\n",
              "      <td>Хорошее мороженное, разнообразие выбора и вкус...</td>\n",
              "      <td>37.599740</td>\n",
              "      <td>55.815575</td>\n",
              "      <td>Открыто до 20:00</td>\n",
              "    </tr>\n",
              "    <tr>\n",
              "      <th>5</th>\n",
              "      <td>28 ноября 2020</td>\n",
              "      <td>Ольга -.</td>\n",
              "      <td>1.0</td>\n",
              "      <td>Ставлю одну звезду лишь за вкусное мороженое. ...</td>\n",
              "      <td>37.599740</td>\n",
              "      <td>55.815575</td>\n",
              "      <td>Открыто до 20:00</td>\n",
              "    </tr>\n",
              "    <tr>\n",
              "      <th>...</th>\n",
              "      <td>...</td>\n",
              "      <td>...</td>\n",
              "      <td>...</td>\n",
              "      <td>...</td>\n",
              "      <td>...</td>\n",
              "      <td>...</td>\n",
              "      <td>...</td>\n",
              "    </tr>\n",
              "    <tr>\n",
              "      <th>103909</th>\n",
              "      <td>9 марта 2020</td>\n",
              "      <td>Иван Кузнецов</td>\n",
              "      <td>1.0</td>\n",
              "      <td>Зашли покурить кальян, попить чаю. Заказали ка...</td>\n",
              "      <td>37.593007</td>\n",
              "      <td>55.750032</td>\n",
              "      <td>Больше не работает</td>\n",
              "    </tr>\n",
              "    <tr>\n",
              "      <th>103910</th>\n",
              "      <td>27 сентября 2020</td>\n",
              "      <td>Мария З.</td>\n",
              "      <td>4.0</td>\n",
              "      <td>Мне понравилось. Быстро подошла официантка, бы...</td>\n",
              "      <td>37.593007</td>\n",
              "      <td>55.750032</td>\n",
              "      <td>Больше не работает</td>\n",
              "    </tr>\n",
              "    <tr>\n",
              "      <th>103911</th>\n",
              "      <td>12 октября 2020</td>\n",
              "      <td>Валерия Л.</td>\n",
              "      <td>5.0</td>\n",
              "      <td>Очень вкусно, турецкая атмосфера🇹🇷Все понравил...</td>\n",
              "      <td>37.593007</td>\n",
              "      <td>55.750032</td>\n",
              "      <td>Больше не работает</td>\n",
              "    </tr>\n",
              "    <tr>\n",
              "      <th>103912</th>\n",
              "      <td>26 августа 2020</td>\n",
              "      <td>эрик моралес</td>\n",
              "      <td>5.0</td>\n",
              "      <td>Госпади, как же тут вкусно готовят из простых ...</td>\n",
              "      <td>37.593007</td>\n",
              "      <td>55.750032</td>\n",
              "      <td>Больше не работает</td>\n",
              "    </tr>\n",
              "    <tr>\n",
              "      <th>103913</th>\n",
              "      <td>5 марта 2020</td>\n",
              "      <td>Евгений Жаворонков</td>\n",
              "      <td>4.0</td>\n",
              "      <td>Классное каффе, мясные блюда на 5+! Алкоголь т...</td>\n",
              "      <td>37.593007</td>\n",
              "      <td>55.750032</td>\n",
              "      <td>Больше не работает</td>\n",
              "    </tr>\n",
              "  </tbody>\n",
              "</table>\n",
              "<p>103913 rows × 7 columns</p>\n",
              "</div>\n",
              "      <button class=\"colab-df-convert\" onclick=\"convertToInteractive('df-c88f0004-8421-4a77-90c9-6dea157b3b6e')\"\n",
              "              title=\"Convert this dataframe to an interactive table.\"\n",
              "              style=\"display:none;\">\n",
              "        \n",
              "  <svg xmlns=\"http://www.w3.org/2000/svg\" height=\"24px\"viewBox=\"0 0 24 24\"\n",
              "       width=\"24px\">\n",
              "    <path d=\"M0 0h24v24H0V0z\" fill=\"none\"/>\n",
              "    <path d=\"M18.56 5.44l.94 2.06.94-2.06 2.06-.94-2.06-.94-.94-2.06-.94 2.06-2.06.94zm-11 1L8.5 8.5l.94-2.06 2.06-.94-2.06-.94L8.5 2.5l-.94 2.06-2.06.94zm10 10l.94 2.06.94-2.06 2.06-.94-2.06-.94-.94-2.06-.94 2.06-2.06.94z\"/><path d=\"M17.41 7.96l-1.37-1.37c-.4-.4-.92-.59-1.43-.59-.52 0-1.04.2-1.43.59L10.3 9.45l-7.72 7.72c-.78.78-.78 2.05 0 2.83L4 21.41c.39.39.9.59 1.41.59.51 0 1.02-.2 1.41-.59l7.78-7.78 2.81-2.81c.8-.78.8-2.07 0-2.86zM5.41 20L4 18.59l7.72-7.72 1.47 1.35L5.41 20z\"/>\n",
              "  </svg>\n",
              "      </button>\n",
              "      \n",
              "  <style>\n",
              "    .colab-df-container {\n",
              "      display:flex;\n",
              "      flex-wrap:wrap;\n",
              "      gap: 12px;\n",
              "    }\n",
              "\n",
              "    .colab-df-convert {\n",
              "      background-color: #E8F0FE;\n",
              "      border: none;\n",
              "      border-radius: 50%;\n",
              "      cursor: pointer;\n",
              "      display: none;\n",
              "      fill: #1967D2;\n",
              "      height: 32px;\n",
              "      padding: 0 0 0 0;\n",
              "      width: 32px;\n",
              "    }\n",
              "\n",
              "    .colab-df-convert:hover {\n",
              "      background-color: #E2EBFA;\n",
              "      box-shadow: 0px 1px 2px rgba(60, 64, 67, 0.3), 0px 1px 3px 1px rgba(60, 64, 67, 0.15);\n",
              "      fill: #174EA6;\n",
              "    }\n",
              "\n",
              "    [theme=dark] .colab-df-convert {\n",
              "      background-color: #3B4455;\n",
              "      fill: #D2E3FC;\n",
              "    }\n",
              "\n",
              "    [theme=dark] .colab-df-convert:hover {\n",
              "      background-color: #434B5C;\n",
              "      box-shadow: 0px 1px 3px 1px rgba(0, 0, 0, 0.15);\n",
              "      filter: drop-shadow(0px 1px 2px rgba(0, 0, 0, 0.3));\n",
              "      fill: #FFFFFF;\n",
              "    }\n",
              "  </style>\n",
              "\n",
              "      <script>\n",
              "        const buttonEl =\n",
              "          document.querySelector('#df-c88f0004-8421-4a77-90c9-6dea157b3b6e button.colab-df-convert');\n",
              "        buttonEl.style.display =\n",
              "          google.colab.kernel.accessAllowed ? 'block' : 'none';\n",
              "\n",
              "        async function convertToInteractive(key) {\n",
              "          const element = document.querySelector('#df-c88f0004-8421-4a77-90c9-6dea157b3b6e');\n",
              "          const dataTable =\n",
              "            await google.colab.kernel.invokeFunction('convertToInteractive',\n",
              "                                                     [key], {});\n",
              "          if (!dataTable) return;\n",
              "\n",
              "          const docLinkHtml = 'Like what you see? Visit the ' +\n",
              "            '<a target=\"_blank\" href=https://colab.research.google.com/notebooks/data_table.ipynb>data table notebook</a>'\n",
              "            + ' to learn more about interactive tables.';\n",
              "          element.innerHTML = '';\n",
              "          dataTable['output_type'] = 'display_data';\n",
              "          await google.colab.output.renderOutput(dataTable, element);\n",
              "          const docLink = document.createElement('div');\n",
              "          docLink.innerHTML = docLinkHtml;\n",
              "          element.appendChild(docLink);\n",
              "        }\n",
              "      </script>\n",
              "    </div>\n",
              "  </div>\n",
              "  "
            ]
          },
          "metadata": {},
          "execution_count": 58
        }
      ],
      "source": [
        "data = pd.read_csv('/content/drive/MyDrive/datasets/ready2020.csv', delimiter=';', index_col=0)\n",
        "data"
      ]
    },
    {
      "cell_type": "code",
      "execution_count": 59,
      "metadata": {
        "colab": {
          "base_uri": "https://localhost:8080/"
        },
        "id": "Fg7hVmbnOqPj",
        "outputId": "e814a746-b71a-4999-cfc9-91b0ef74ba1e"
      },
      "outputs": [
        {
          "output_type": "execute_result",
          "data": {
            "text/plain": [
              "(103913, 7)"
            ]
          },
          "metadata": {},
          "execution_count": 59
        }
      ],
      "source": [
        "data.shape"
      ]
    },
    {
      "cell_type": "code",
      "execution_count": 60,
      "metadata": {
        "colab": {
          "base_uri": "https://localhost:8080/"
        },
        "id": "e4wV3TYlPO00",
        "outputId": "0d93c230-8199-4e32-d791-3c524fd26cbe"
      },
      "outputs": [
        {
          "output_type": "execute_result",
          "data": {
            "text/plain": [
              "date       0\n",
              "name       0\n",
              "stars     40\n",
              "text       0\n",
              "X         53\n",
              "Y         15\n",
              "status     0\n",
              "dtype: int64"
            ]
          },
          "metadata": {},
          "execution_count": 60
        }
      ],
      "source": [
        "data.isna().sum()"
      ]
    },
    {
      "cell_type": "code",
      "execution_count": 62,
      "metadata": {
        "colab": {
          "base_uri": "https://localhost:8080/",
          "height": 447
        },
        "id": "RnveP5oFOsgO",
        "outputId": "a0660146-fb3e-4e89-d55c-0fff36070cd9"
      },
      "outputs": [
        {
          "output_type": "execute_result",
          "data": {
            "text/plain": [
              "<Axes: >"
            ]
          },
          "metadata": {},
          "execution_count": 62
        },
        {
          "output_type": "display_data",
          "data": {
            "text/plain": [
              "<Figure size 640x480 with 1 Axes>"
            ],
            "image/png": "[encoded data removed]"
          },
          "metadata": {}
        }
      ],
      "source": [
        "data['stars'].hist(bins=5, grid=False)"
      ]
    },
    {
      "cell_type": "markdown",
      "metadata": {
        "id": "tA_X2mSSL0C4"
      },
      "source": [
        "Набор данных представляет из себя множество пользовательских отзывов к разным кафе.\n",
        "\n",
        "Набор данных состоит из следующих полей:\n",
        "\n",
        "*   date. Дата создания отзыва\n",
        "*   name. Имя пользователя, написавшего отзыв\n",
        "*   stars. Количество звезд, поставленных пользователем\n",
        "*   text. Текст отзыва\n",
        "*   X и Y. Координаты кафе, к которому был оставлен отзыв\n",
        "*   status. Статус кафе, к которому был оставлен отзыв\n",
        "\n",
        "В наборе данных около 100 000 отзывов. Сами отзывы сильно несбалансированы: 5-звездочных в разы больше, чем все остальных.\n",
        "\n",
        "В наборе присутствуют пропущенные значения. Однако так как их мало относительно общего количества отзывов, их можно без вреда убрать из набора данных.\n",
        "\n"
      ]
    },
    {
      "cell_type": "markdown",
      "metadata": {
        "id": "YQKTKNpUNWCr"
      },
      "source": [
        "Задачей работы является множественная классификация текстов. Поэтому из всех полей необходимы только два: сам текст отзыва и количество звезд, поставленных в этом отзыве.\n",
        "\n",
        "В работе будут рассмотрены два подхода к классификации текстов:\n",
        "\n",
        "*   Тональный анализ текстов с помощью соотвествующих словарей.\n",
        "*   Тональный анализ текстов с помощью инструментов машинного обучения.\n",
        "\n",
        "Так как в большинстве словарей поддерживаются разделения слов на ограниченное количество групп (обычно это положительная, нейтральная, отрицательная и неопределенная группы), будет рациональнее объединить отзывы в группы по следующему принципу:\n",
        "\n",
        "*   Если отзыв имеет 5 звезд, он относится к положительным отзывам.\n",
        "*   Если отзыв имеет 3 или 4 звезды, он относится к нейтральным отзывам.\n",
        "*   Если отзыв имеет 1 или 2 звезды, он относится к отрицательным отзывам.\n",
        "\n",
        "Так как нейронный сети не умеют работать с категориальными данными, группы будут обозначены следующим образом:\n",
        "\n",
        "*   Положительные отзывы - 2\n",
        "*   Нейтральные отзывы - 1\n",
        "*   Отрицательные отзывы - 0\n",
        "\n",
        "\n",
        "\n"
      ]
    },
    {
      "cell_type": "code",
      "execution_count": 63,
      "metadata": {
        "colab": {
          "base_uri": "https://localhost:8080/",
          "height": 423
        },
        "id": "vD6ePcbgOQ3M",
        "outputId": "81f65866-47af-4c7f-88fa-9cd6bc87b457"
      },
      "outputs": [
        {
          "output_type": "execute_result",
          "data": {
            "text/plain": [
              "                                                     data  target\n",
              "0       Были на экскурсии. Я очень люблю производствен...     2.0\n",
              "1       Часто ходим в это кафе. Красивый интерьер, оче...     2.0\n",
              "2       Вкусное мороженое. С кофе и яблочным пирогом с...     2.0\n",
              "3       Хорошее мороженное, разнообразие выбора и вкус...     2.0\n",
              "4       Ставлю одну звезду лишь за вкусное мороженое. ...     0.0\n",
              "...                                                   ...     ...\n",
              "103868  Зашли покурить кальян, попить чаю. Заказали ка...     0.0\n",
              "103869  Мне понравилось. Быстро подошла официантка, бы...     1.0\n",
              "103870  Очень вкусно, турецкая атмосфера🇹🇷Все понравил...     2.0\n",
              "103871  Госпади, как же тут вкусно готовят из простых ...     2.0\n",
              "103872  Классное каффе, мясные блюда на 5+! Алкоголь т...     1.0\n",
              "\n",
              "[103873 rows x 2 columns]"
            ],
            "text/html": [
              "\n",
              "  <div id=\"df-5778d064-a76c-4ca6-aab3-e3871edea6ac\">\n",
              "    <div class=\"colab-df-container\">\n",
              "      <div>\n",
              "<style scoped>\n",
              "    .dataframe tbody tr th:only-of-type {\n",
              "        vertical-align: middle;\n",
              "    }\n",
              "\n",
              "    .dataframe tbody tr th {\n",
              "        vertical-align: top;\n",
              "    }\n",
              "\n",
              "    .dataframe thead th {\n",
              "        text-align: right;\n",
              "    }\n",
              "</style>\n",
              "<table border=\"1\" class=\"dataframe\">\n",
              "  <thead>\n",
              "    <tr style=\"text-align: right;\">\n",
              "      <th></th>\n",
              "      <th>data</th>\n",
              "      <th>target</th>\n",
              "    </tr>\n",
              "  </thead>\n",
              "  <tbody>\n",
              "    <tr>\n",
              "      <th>0</th>\n",
              "      <td>Были на экскурсии. Я очень люблю производствен...</td>\n",
              "      <td>2.0</td>\n",
              "    </tr>\n",
              "    <tr>\n",
              "      <th>1</th>\n",
              "      <td>Часто ходим в это кафе. Красивый интерьер, оче...</td>\n",
              "      <td>2.0</td>\n",
              "    </tr>\n",
              "    <tr>\n",
              "      <th>2</th>\n",
              "      <td>Вкусное мороженое. С кофе и яблочным пирогом с...</td>\n",
              "      <td>2.0</td>\n",
              "    </tr>\n",
              "    <tr>\n",
              "      <th>3</th>\n",
              "      <td>Хорошее мороженное, разнообразие выбора и вкус...</td>\n",
              "      <td>2.0</td>\n",
              "    </tr>\n",
              "    <tr>\n",
              "      <th>4</th>\n",
              "      <td>Ставлю одну звезду лишь за вкусное мороженое. ...</td>\n",
              "      <td>0.0</td>\n",
              "    </tr>\n",
              "    <tr>\n",
              "      <th>...</th>\n",
              "      <td>...</td>\n",
              "      <td>...</td>\n",
              "    </tr>\n",
              "    <tr>\n",
              "      <th>103868</th>\n",
              "      <td>Зашли покурить кальян, попить чаю. Заказали ка...</td>\n",
              "      <td>0.0</td>\n",
              "    </tr>\n",
              "    <tr>\n",
              "      <th>103869</th>\n",
              "      <td>Мне понравилось. Быстро подошла официантка, бы...</td>\n",
              "      <td>1.0</td>\n",
              "    </tr>\n",
              "    <tr>\n",
              "      <th>103870</th>\n",
              "      <td>Очень вкусно, турецкая атмосфера🇹🇷Все понравил...</td>\n",
              "      <td>2.0</td>\n",
              "    </tr>\n",
              "    <tr>\n",
              "      <th>103871</th>\n",
              "      <td>Госпади, как же тут вкусно готовят из простых ...</td>\n",
              "      <td>2.0</td>\n",
              "    </tr>\n",
              "    <tr>\n",
              "      <th>103872</th>\n",
              "      <td>Классное каффе, мясные блюда на 5+! Алкоголь т...</td>\n",
              "      <td>1.0</td>\n",
              "    </tr>\n",
              "  </tbody>\n",
              "</table>\n",
              "<p>103873 rows × 2 columns</p>\n",
              "</div>\n",
              "      <button class=\"colab-df-convert\" onclick=\"convertToInteractive('df-5778d064-a76c-4ca6-aab3-e3871edea6ac')\"\n",
              "              title=\"Convert this dataframe to an interactive table.\"\n",
              "              style=\"display:none;\">\n",
              "        \n",
              "  <svg xmlns=\"http://www.w3.org/2000/svg\" height=\"24px\"viewBox=\"0 0 24 24\"\n",
              "       width=\"24px\">\n",
              "    <path d=\"M0 0h24v24H0V0z\" fill=\"none\"/>\n",
              "    <path d=\"M18.56 5.44l.94 2.06.94-2.06 2.06-.94-2.06-.94-.94-2.06-.94 2.06-2.06.94zm-11 1L8.5 8.5l.94-2.06 2.06-.94-2.06-.94L8.5 2.5l-.94 2.06-2.06.94zm10 10l.94 2.06.94-2.06 2.06-.94-2.06-.94-.94-2.06-.94 2.06-2.06.94z\"/><path d=\"M17.41 7.96l-1.37-1.37c-.4-.4-.92-.59-1.43-.59-.52 0-1.04.2-1.43.59L10.3 9.45l-7.72 7.72c-.78.78-.78 2.05 0 2.83L4 21.41c.39.39.9.59 1.41.59.51 0 1.02-.2 1.41-.59l7.78-7.78 2.81-2.81c.8-.78.8-2.07 0-2.86zM5.41 20L4 18.59l7.72-7.72 1.47 1.35L5.41 20z\"/>\n",
              "  </svg>\n",
              "      </button>\n",
              "      \n",
              "  <style>\n",
              "    .colab-df-container {\n",
              "      display:flex;\n",
              "      flex-wrap:wrap;\n",
              "      gap: 12px;\n",
              "    }\n",
              "\n",
              "    .colab-df-convert {\n",
              "      background-color: #E8F0FE;\n",
              "      border: none;\n",
              "      border-radius: 50%;\n",
              "      cursor: pointer;\n",
              "      display: none;\n",
              "      fill: #1967D2;\n",
              "      height: 32px;\n",
              "      padding: 0 0 0 0;\n",
              "      width: 32px;\n",
              "    }\n",
              "\n",
              "    .colab-df-convert:hover {\n",
              "      background-color: #E2EBFA;\n",
              "      box-shadow: 0px 1px 2px rgba(60, 64, 67, 0.3), 0px 1px 3px 1px rgba(60, 64, 67, 0.15);\n",
              "      fill: #174EA6;\n",
              "    }\n",
              "\n",
              "    [theme=dark] .colab-df-convert {\n",
              "      background-color: #3B4455;\n",
              "      fill: #D2E3FC;\n",
              "    }\n",
              "\n",
              "    [theme=dark] .colab-df-convert:hover {\n",
              "      background-color: #434B5C;\n",
              "      box-shadow: 0px 1px 3px 1px rgba(0, 0, 0, 0.15);\n",
              "      filter: drop-shadow(0px 1px 2px rgba(0, 0, 0, 0.3));\n",
              "      fill: #FFFFFF;\n",
              "    }\n",
              "  </style>\n",
              "\n",
              "      <script>\n",
              "        const buttonEl =\n",
              "          document.querySelector('#df-5778d064-a76c-4ca6-aab3-e3871edea6ac button.colab-df-convert');\n",
              "        buttonEl.style.display =\n",
              "          google.colab.kernel.accessAllowed ? 'block' : 'none';\n",
              "\n",
              "        async function convertToInteractive(key) {\n",
              "          const element = document.querySelector('#df-5778d064-a76c-4ca6-aab3-e3871edea6ac');\n",
              "          const dataTable =\n",
              "            await google.colab.kernel.invokeFunction('convertToInteractive',\n",
              "                                                     [key], {});\n",
              "          if (!dataTable) return;\n",
              "\n",
              "          const docLinkHtml = 'Like what you see? Visit the ' +\n",
              "            '<a target=\"_blank\" href=https://colab.research.google.com/notebooks/data_table.ipynb>data table notebook</a>'\n",
              "            + ' to learn more about interactive tables.';\n",
              "          element.innerHTML = '';\n",
              "          dataTable['output_type'] = 'display_data';\n",
              "          await google.colab.output.renderOutput(dataTable, element);\n",
              "          const docLink = document.createElement('div');\n",
              "          docLink.innerHTML = docLinkHtml;\n",
              "          element.appendChild(docLink);\n",
              "        }\n",
              "      </script>\n",
              "    </div>\n",
              "  </div>\n",
              "  "
            ]
          },
          "metadata": {},
          "execution_count": 63
        }
      ],
      "source": [
        "data = prepare_data(data=data)\n",
        "data"
      ]
    },
    {
      "cell_type": "markdown",
      "metadata": {
        "id": "NjvE78ddYA10"
      },
      "source": [
        "Для предобработки данных будут выполнены следующие действия:\n",
        "\n",
        "1.   Приведение всех строк к нижнему регистру и удаление всех символов, неотносящихся к кириллице. \n",
        "2.   Удаление стоп-слов.\n",
        "3.   Лемматизация слов.\n",
        "\n"
      ]
    },
    {
      "cell_type": "code",
      "execution_count": 65,
      "metadata": {
        "id": "J0jzXpy4eT82",
        "colab": {
          "base_uri": "https://localhost:8080/",
          "height": 423
        },
        "outputId": "e3f4fc23-2f06-4dcb-e31a-9bb7d729c3f4"
      },
      "outputs": [
        {
          "output_type": "execute_result",
          "data": {
            "text/plain": [
              "                                                     data  target\n",
              "0       экскурсия очень любить производственный экскур...     2.0\n",
              "1       часто ходить это кафе красивый интерьер очень ...     2.0\n",
              "2       вкусный мороженое кофе яблочный пирог мятый об...     2.0\n",
              "3       хороший мороженный разнообразие выбор вкус веж...     2.0\n",
              "4       ставить звезда лишь вкусный мороженое отсутств...     0.0\n",
              "...                                                   ...     ...\n",
              "103868  заслать покурить кальян попить чай заказать ка...     0.0\n",
              "103869  понравиться быстро подойти официантка быстро п...     1.0\n",
              "103870  очень вкусно турецкий атмосфера всё понравитьс...     2.0\n",
              "103871                    вкусно готовить простой продукт     2.0\n",
              "103872  классный мясной блюдо алкоголь дорога морс клю...     1.0\n",
              "\n",
              "[103873 rows x 2 columns]"
            ],
            "text/html": [
              "\n",
              "  <div id=\"df-353f7b26-61f2-4264-9c5b-b480b68fa6a6\">\n",
              "    <div class=\"colab-df-container\">\n",
              "      <div>\n",
              "<style scoped>\n",
              "    .dataframe tbody tr th:only-of-type {\n",
              "        vertical-align: middle;\n",
              "    }\n",
              "\n",
              "    .dataframe tbody tr th {\n",
              "        vertical-align: top;\n",
              "    }\n",
              "\n",
              "    .dataframe thead th {\n",
              "        text-align: right;\n",
              "    }\n",
              "</style>\n",
              "<table border=\"1\" class=\"dataframe\">\n",
              "  <thead>\n",
              "    <tr style=\"text-align: right;\">\n",
              "      <th></th>\n",
              "      <th>data</th>\n",
              "      <th>target</th>\n",
              "    </tr>\n",
              "  </thead>\n",
              "  <tbody>\n",
              "    <tr>\n",
              "      <th>0</th>\n",
              "      <td>экскурсия очень любить производственный экскур...</td>\n",
              "      <td>2.0</td>\n",
              "    </tr>\n",
              "    <tr>\n",
              "      <th>1</th>\n",
              "      <td>часто ходить это кафе красивый интерьер очень ...</td>\n",
              "      <td>2.0</td>\n",
              "    </tr>\n",
              "    <tr>\n",
              "      <th>2</th>\n",
              "      <td>вкусный мороженое кофе яблочный пирог мятый об...</td>\n",
              "      <td>2.0</td>\n",
              "    </tr>\n",
              "    <tr>\n",
              "      <th>3</th>\n",
              "      <td>хороший мороженный разнообразие выбор вкус веж...</td>\n",
              "      <td>2.0</td>\n",
              "    </tr>\n",
              "    <tr>\n",
              "      <th>4</th>\n",
              "      <td>ставить звезда лишь вкусный мороженое отсутств...</td>\n",
              "      <td>0.0</td>\n",
              "    </tr>\n",
              "    <tr>\n",
              "      <th>...</th>\n",
              "      <td>...</td>\n",
              "      <td>...</td>\n",
              "    </tr>\n",
              "    <tr>\n",
              "      <th>103868</th>\n",
              "      <td>заслать покурить кальян попить чай заказать ка...</td>\n",
              "      <td>0.0</td>\n",
              "    </tr>\n",
              "    <tr>\n",
              "      <th>103869</th>\n",
              "      <td>понравиться быстро подойти официантка быстро п...</td>\n",
              "      <td>1.0</td>\n",
              "    </tr>\n",
              "    <tr>\n",
              "      <th>103870</th>\n",
              "      <td>очень вкусно турецкий атмосфера всё понравитьс...</td>\n",
              "      <td>2.0</td>\n",
              "    </tr>\n",
              "    <tr>\n",
              "      <th>103871</th>\n",
              "      <td>вкусно готовить простой продукт</td>\n",
              "      <td>2.0</td>\n",
              "    </tr>\n",
              "    <tr>\n",
              "      <th>103872</th>\n",
              "      <td>классный мясной блюдо алкоголь дорога морс клю...</td>\n",
              "      <td>1.0</td>\n",
              "    </tr>\n",
              "  </tbody>\n",
              "</table>\n",
              "<p>103873 rows × 2 columns</p>\n",
              "</div>\n",
              "      <button class=\"colab-df-convert\" onclick=\"convertToInteractive('df-353f7b26-61f2-4264-9c5b-b480b68fa6a6')\"\n",
              "              title=\"Convert this dataframe to an interactive table.\"\n",
              "              style=\"display:none;\">\n",
              "        \n",
              "  <svg xmlns=\"http://www.w3.org/2000/svg\" height=\"24px\"viewBox=\"0 0 24 24\"\n",
              "       width=\"24px\">\n",
              "    <path d=\"M0 0h24v24H0V0z\" fill=\"none\"/>\n",
              "    <path d=\"M18.56 5.44l.94 2.06.94-2.06 2.06-.94-2.06-.94-.94-2.06-.94 2.06-2.06.94zm-11 1L8.5 8.5l.94-2.06 2.06-.94-2.06-.94L8.5 2.5l-.94 2.06-2.06.94zm10 10l.94 2.06.94-2.06 2.06-.94-2.06-.94-.94-2.06-.94 2.06-2.06.94z\"/><path d=\"M17.41 7.96l-1.37-1.37c-.4-.4-.92-.59-1.43-.59-.52 0-1.04.2-1.43.59L10.3 9.45l-7.72 7.72c-.78.78-.78 2.05 0 2.83L4 21.41c.39.39.9.59 1.41.59.51 0 1.02-.2 1.41-.59l7.78-7.78 2.81-2.81c.8-.78.8-2.07 0-2.86zM5.41 20L4 18.59l7.72-7.72 1.47 1.35L5.41 20z\"/>\n",
              "  </svg>\n",
              "      </button>\n",
              "      \n",
              "  <style>\n",
              "    .colab-df-container {\n",
              "      display:flex;\n",
              "      flex-wrap:wrap;\n",
              "      gap: 12px;\n",
              "    }\n",
              "\n",
              "    .colab-df-convert {\n",
              "      background-color: #E8F0FE;\n",
              "      border: none;\n",
              "      border-radius: 50%;\n",
              "      cursor: pointer;\n",
              "      display: none;\n",
              "      fill: #1967D2;\n",
              "      height: 32px;\n",
              "      padding: 0 0 0 0;\n",
              "      width: 32px;\n",
              "    }\n",
              "\n",
              "    .colab-df-convert:hover {\n",
              "      background-color: #E2EBFA;\n",
              "      box-shadow: 0px 1px 2px rgba(60, 64, 67, 0.3), 0px 1px 3px 1px rgba(60, 64, 67, 0.15);\n",
              "      fill: #174EA6;\n",
              "    }\n",
              "\n",
              "    [theme=dark] .colab-df-convert {\n",
              "      background-color: #3B4455;\n",
              "      fill: #D2E3FC;\n",
              "    }\n",
              "\n",
              "    [theme=dark] .colab-df-convert:hover {\n",
              "      background-color: #434B5C;\n",
              "      box-shadow: 0px 1px 3px 1px rgba(0, 0, 0, 0.15);\n",
              "      filter: drop-shadow(0px 1px 2px rgba(0, 0, 0, 0.3));\n",
              "      fill: #FFFFFF;\n",
              "    }\n",
              "  </style>\n",
              "\n",
              "      <script>\n",
              "        const buttonEl =\n",
              "          document.querySelector('#df-353f7b26-61f2-4264-9c5b-b480b68fa6a6 button.colab-df-convert');\n",
              "        buttonEl.style.display =\n",
              "          google.colab.kernel.accessAllowed ? 'block' : 'none';\n",
              "\n",
              "        async function convertToInteractive(key) {\n",
              "          const element = document.querySelector('#df-353f7b26-61f2-4264-9c5b-b480b68fa6a6');\n",
              "          const dataTable =\n",
              "            await google.colab.kernel.invokeFunction('convertToInteractive',\n",
              "                                                     [key], {});\n",
              "          if (!dataTable) return;\n",
              "\n",
              "          const docLinkHtml = 'Like what you see? Visit the ' +\n",
              "            '<a target=\"_blank\" href=https://colab.research.google.com/notebooks/data_table.ipynb>data table notebook</a>'\n",
              "            + ' to learn more about interactive tables.';\n",
              "          element.innerHTML = '';\n",
              "          dataTable['output_type'] = 'display_data';\n",
              "          await google.colab.output.renderOutput(dataTable, element);\n",
              "          const docLink = document.createElement('div');\n",
              "          docLink.innerHTML = docLinkHtml;\n",
              "          element.appendChild(docLink);\n",
              "        }\n",
              "      </script>\n",
              "    </div>\n",
              "  </div>\n",
              "  "
            ]
          },
          "metadata": {},
          "execution_count": 65
        }
      ],
      "source": [
        "data = preprocess_data(data)\n",
        "data"
      ]
    },
    {
      "cell_type": "code",
      "execution_count": 15,
      "metadata": {
        "id": "TWm3rCAiu51O"
      },
      "outputs": [],
      "source": [
        "data.to_csv('/content/drive/MyDrive/datasets/ready2020_lemmatized.csv')"
      ]
    },
    {
      "cell_type": "code",
      "execution_count": 11,
      "metadata": {
        "id": "M9YVATCyWcZU",
        "colab": {
          "base_uri": "https://localhost:8080/",
          "height": 472
        },
        "outputId": "a87c296d-1ad8-412a-ea48-a5ad08c45dc4"
      },
      "outputs": [
        {
          "output_type": "display_data",
          "data": {
            "text/plain": [
              "<Figure size 640x480 with 1 Axes>"
            ],
            "image/png": "[encoded data removed]"
          },
          "metadata": {}
        }
      ],
      "source": [
        "show_balance((data['target'], ), ('Данные', ))"
      ]
    },
    {
      "cell_type": "markdown",
      "metadata": {
        "id": "HSb5oQw2WjJ3"
      },
      "source": [
        "Так как данные в наборе после перегруппировки остались несбалансированными, это может повлиять на эффективность обучения нейронной сети. Для снижения несбалансированности применяется метод пересэмплинга - дуплицирование редковстречающихся категорий сэмплов.\n",
        "\n",
        "Такие сэмплы дублируются два раза, в результате чего данные становятся более сбалансированными."
      ]
    },
    {
      "cell_type": "code",
      "execution_count": 12,
      "metadata": {
        "id": "IlcAarAJXAHK",
        "colab": {
          "base_uri": "https://localhost:8080/",
          "height": 472
        },
        "outputId": "71cc8d6a-f8fd-4c5d-84f5-b02a86096fc4"
      },
      "outputs": [
        {
          "output_type": "display_data",
          "data": {
            "text/plain": [
              "<Figure size 640x480 with 1 Axes>"
            ],
            "image/png": "[encoded data removed]"
          },
          "metadata": {}
        }
      ],
      "source": [
        "data = balance_data(data)\n",
        "show_balance((data['target'], ), ('Данные', ))"
      ]
    },
    {
      "cell_type": "markdown",
      "metadata": {
        "id": "pywm2UNrbu8U"
      },
      "source": [
        "В качестве показателей эффективности будут использоваться следующие метрики:\n",
        "\n",
        "*   Accracy.\n",
        "*   Precision.\n",
        "*   Recall.\n",
        "*   F1."
      ]
    },
    {
      "cell_type": "markdown",
      "metadata": {
        "id": "kRs766xbwJ9f"
      },
      "source": [
        "# Определение тональности с помощью машинного обучения"
      ]
    },
    {
      "cell_type": "markdown",
      "metadata": {
        "id": "4ZgaDYw7wTrh"
      },
      "source": [
        "## Параметры"
      ]
    },
    {
      "cell_type": "code",
      "execution_count": 30,
      "metadata": {
        "id": "uh1RXVMawV6J"
      },
      "outputs": [],
      "source": [
        "NUM_BATCHES = 75"
      ]
    },
    {
      "cell_type": "markdown",
      "metadata": {
        "id": "CWHvMS-MwZcj"
      },
      "source": [
        "## Подготовка данных"
      ]
    },
    {
      "cell_type": "markdown",
      "metadata": {
        "id": "zgJQL5G32m-P"
      },
      "source": [
        "Для обработки текстовых данных в нейронной сети необходимо провести его векторизацию и создать на их основе DataLoader-ы."
      ]
    },
    {
      "cell_type": "code",
      "execution_count": 17,
      "metadata": {
        "id": "x86kv5ywwM0A"
      },
      "outputs": [],
      "source": [
        "class Vocab:\n",
        "\n",
        "  PAD = '<PAD>'\n",
        "  UNK = '<UNK>'\n",
        "\n",
        "  def __init__(self, data: pd.Series) -> None:\n",
        "    words = set()\n",
        "    max_length = 0\n",
        "    for row in data:\n",
        "      words.update([word for word in word_tokenize(row)])\n",
        "      max_length = max(max_length, len(word_tokenize(row)))\n",
        "    self.max_length = max_length\n",
        "    self.tokens = [self.PAD, self.UNK] + list(words)\n",
        "    self.word2vec = defaultdict(lambda: 1, {word: i for i, word in enumerate(self.tokens)})\n",
        "  \n",
        "  def __len__(self) -> int:\n",
        "    return len(self.tokens)\n",
        "\n",
        "  def vectorize(self, text) -> torch.Tensor:\n",
        "    vector = torch.zeros(self.max_length)\n",
        "    for i, word in enumerate(word_tokenize(text)):\n",
        "      vector[i] = self.word2vec[word]\n",
        "    return vector"
      ]
    },
    {
      "cell_type": "code",
      "execution_count": 18,
      "metadata": {
        "id": "IA4O25xX5cum",
        "colab": {
          "base_uri": "https://localhost:8080/"
        },
        "outputId": "8cab2086-1900-4151-9f7f-f9f379436620"
      },
      "outputs": [
        {
          "output_type": "execute_result",
          "data": {
            "text/plain": [
              "(26345, 760)"
            ]
          },
          "metadata": {},
          "execution_count": 18
        }
      ],
      "source": [
        "vocab = Vocab(data['data'])\n",
        "len(vocab), vocab.max_length"
      ]
    },
    {
      "cell_type": "code",
      "execution_count": 19,
      "metadata": {
        "id": "20ry3zae902-"
      },
      "outputs": [],
      "source": [
        "class ReviewDataset(Dataset):\n",
        "\n",
        "  def __init__(self, X: pd.Series, y: pd.Series, vocab: Vocab) -> None:\n",
        "    self.X = torch.vstack(X.map(vocab.vectorize).tolist()).to(torch.long)\n",
        "    self.y = torch.tensor(y.tolist(), dtype=torch.long)\n",
        "\n",
        "  def __len__(self) -> int:\n",
        "    return len(self.X)\n",
        "\n",
        "  def __getitem__(self, index) -> tuple[torch.Tensor, torch.long]:\n",
        "    return self.X[index], self.y[index]"
      ]
    },
    {
      "cell_type": "markdown",
      "source": [
        "Данные будут разбиты на две части: обучающую и тестовую, в соотношениях 4 к 1 соотвественно."
      ],
      "metadata": {
        "id": "EDMd8KGupAgz"
      }
    },
    {
      "cell_type": "code",
      "execution_count": 20,
      "metadata": {
        "id": "7LlZQ71VxVW5",
        "colab": {
          "base_uri": "https://localhost:8080/"
        },
        "outputId": "446f2c88-b1bb-4f70-a3a1-023482a03e7f"
      },
      "outputs": [
        {
          "output_type": "execute_result",
          "data": {
            "text/plain": [
              "((135215, 2), (33804, 2))"
            ]
          },
          "metadata": {},
          "execution_count": 20
        }
      ],
      "source": [
        "train_data, test_data = train_test_split(data, test_size=0.2, shuffle=True)\n",
        "train_data.shape, test_data.shape"
      ]
    },
    {
      "cell_type": "code",
      "execution_count": 21,
      "metadata": {
        "id": "ZxK2ZuuCyLfR",
        "colab": {
          "base_uri": "https://localhost:8080/",
          "height": 472
        },
        "outputId": "2acd4bed-4fec-4693-d39d-9dc5e49639c7"
      },
      "outputs": [
        {
          "output_type": "display_data",
          "data": {
            "text/plain": [
              "<Figure size 640x480 with 1 Axes>"
            ],
            "image/png": "[encoded data removed]"
          },
          "metadata": {}
        }
      ],
      "source": [
        "show_balance((train_data['target'], test_data['target']), ('Тренировочные данные', 'Тестовые данные'))"
      ]
    },
    {
      "cell_type": "code",
      "execution_count": 22,
      "metadata": {
        "id": "rFOBwP0y_Tp4"
      },
      "outputs": [],
      "source": [
        "train_dataset = ReviewDataset(train_data['data'], train_data['target'].astype(int), vocab)\n",
        "test_dataset = ReviewDataset(test_data['data'], test_data['target'].astype(int), vocab)"
      ]
    },
    {
      "cell_type": "code",
      "execution_count": 31,
      "metadata": {
        "id": "zAm4sVYHB4vu"
      },
      "outputs": [],
      "source": [
        "train_dataloader = DataLoader(train_dataset, batch_size=len(train_dataset)//NUM_BATCHES, shuffle=True, drop_last=True)\n",
        "test_dataloader = DataLoader(test_dataset, batch_size=train_dataloader.batch_size, drop_last=True)"
      ]
    },
    {
      "cell_type": "markdown",
      "metadata": {
        "id": "SdVU5_59CoHs"
      },
      "source": [
        "## Модель и гиперпараметры"
      ]
    },
    {
      "cell_type": "code",
      "execution_count": 24,
      "metadata": {
        "id": "W22hU0sVCt1C"
      },
      "outputs": [],
      "source": [
        "LR = 0.001\n",
        "EPOCHS = 25\n",
        "DROP_PROBABILITY = 0.1\n",
        "EMBEDDING_DIM = 256\n",
        "HIDDEN_SIZE = 16\n",
        "NUM_LAYERS = 3"
      ]
    },
    {
      "cell_type": "code",
      "execution_count": 25,
      "metadata": {
        "id": "CJunSroSDQXV"
      },
      "outputs": [],
      "source": [
        "class NeuralNetwork(nn.Module):\n",
        "\n",
        "  def __init__(\n",
        "      self, \n",
        "      num_embedding: int, \n",
        "      embedding_dim: int, \n",
        "      hidden_size: int, \n",
        "      vector_length: int, \n",
        "      num_layers: int, \n",
        "      out_features: int) -> None:\n",
        "\n",
        "    super().__init__()\n",
        "\n",
        "    self.embedding = nn.Embedding(num_embeddings=num_embedding, embedding_dim=embedding_dim)\n",
        "    self.lstm = nn.LSTM(input_size=embedding_dim, hidden_size=hidden_size, batch_first=True)\n",
        "    self.classifier = nn.Sequential(\n",
        "        nn.Flatten(),\n",
        "        nn.Linear(in_features=hidden_size*vector_length, out_features=256),\n",
        "        nn.ReLU(),\n",
        "        nn.Dropout(p=DROP_PROBABILITY),\n",
        "        nn.Linear(in_features=256, out_features=out_features),\n",
        "        nn.Softmax(dim=1)\n",
        "    )\n",
        "\n",
        "    self.h_x = None\n",
        "    self.c_x = None\n",
        "    \n",
        "  def forward(self, inputs: torch.Tensor) -> torch.Tensor:\n",
        "    if self.h_x is not None and self.c_x is not None:\n",
        "      h_c = (self.h_x, self.c_x)\n",
        "    else:\n",
        "      h_c = None\n",
        "    inputs = self.embedding(inputs)\n",
        "    inputs, (h_x, c_x) = self.lstm(inputs, h_c)\n",
        "    self.h_x = h_x.detach()\n",
        "    self.c_x = c_x.detach()\n",
        "    inputs = self.classifier(inputs)\n",
        "    return inputs"
      ]
    },
    {
      "cell_type": "code",
      "execution_count": 34,
      "metadata": {
        "id": "YcHnMfb_Wz1f",
        "colab": {
          "base_uri": "https://localhost:8080/"
        },
        "outputId": "755cc8c1-86b0-495a-841e-5835a2a75d17"
      },
      "outputs": [
        {
          "output_type": "execute_result",
          "data": {
            "text/plain": [
              "192"
            ]
          },
          "metadata": {},
          "execution_count": 34
        }
      ],
      "source": [
        "torch.cuda.empty_cache()\n",
        "gc.collect()"
      ]
    },
    {
      "cell_type": "code",
      "execution_count": 36,
      "metadata": {
        "id": "Q8sFQ_EGIWew",
        "colab": {
          "base_uri": "https://localhost:8080/"
        },
        "outputId": "4a611590-2f18-4bc0-d139-13c2d08932d3"
      },
      "outputs": [
        {
          "output_type": "execute_result",
          "data": {
            "text/plain": [
              "NeuralNetwork(\n",
              "  (embedding): Embedding(26345, 256)\n",
              "  (lstm): LSTM(256, 16, batch_first=True)\n",
              "  (classifier): Sequential(\n",
              "    (0): Flatten(start_dim=1, end_dim=-1)\n",
              "    (1): Linear(in_features=12160, out_features=256, bias=True)\n",
              "    (2): ReLU()\n",
              "    (3): Dropout(p=0.1, inplace=False)\n",
              "    (4): Linear(in_features=256, out_features=3, bias=True)\n",
              "    (5): Softmax(dim=1)\n",
              "  )\n",
              ")"
            ]
          },
          "metadata": {},
          "execution_count": 36
        }
      ],
      "source": [
        "net = NeuralNetwork(\n",
        "    num_embedding=len(vocab), \n",
        "    embedding_dim=EMBEDDING_DIM, \n",
        "    hidden_size=HIDDEN_SIZE, \n",
        "    vector_length=vocab.max_length, \n",
        "    num_layers=NUM_LAYERS, \n",
        "    out_features=3\n",
        ").to(DEVICE)\n",
        "loss_fn = nn.CrossEntropyLoss()\n",
        "optimizer = optim.Adam(net.parameters(), lr=LR)\n",
        "net"
      ]
    },
    {
      "cell_type": "code",
      "execution_count": 39,
      "metadata": {
        "id": "cSUIxReIJrB4",
        "colab": {
          "base_uri": "https://localhost:8080/"
        },
        "outputId": "c4827c4f-9448-43b6-bfe1-ae152515191e"
      },
      "outputs": [
        {
          "output_type": "stream",
          "name": "stdout",
          "text": [
            "Epoch 1\n",
            "-------------------------------\n",
            "loss: 0.667794  [ 1802/135215]\n",
            "loss: 0.680135  [19822/135215]\n",
            "loss: 0.652118  [37842/135215]\n",
            "loss: 0.673150  [55862/135215]\n",
            "loss: 0.665365  [73882/135215]\n",
            "loss: 0.673901  [91902/135215]\n",
            "loss: 0.668979  [109922/135215]\n",
            "loss: 0.672848  [127942/135215]\n",
            "Test Error: \n",
            " Accuracy: 80.5%, Avg loss: 0.711818 \n",
            "\n"
          ]
        }
      ],
      "source": [
        "for epoch in range(EPOCHS):\n",
        "    print(f\"Epoch {epoch + 1}\\n-------------------------------\")\n",
        "    train_loop(train_dataloader, net, loss_fn, optimizer)\n",
        "    test_loop(test_dataloader, net, loss_fn)"
      ]
    },
    {
      "cell_type": "code",
      "source": [
        "torch.save(net.state_dict(), '/content/drive/MyDrive/models/lstm/net.pth')"
      ],
      "metadata": {
        "id": "xYWZBX59BADk"
      },
      "execution_count": 43,
      "outputs": []
    },
    {
      "cell_type": "markdown",
      "metadata": {
        "id": "3p5t6gY7vBMu"
      },
      "source": [
        "# Определение тональности с помощью тонального словаря"
      ]
    },
    {
      "cell_type": "markdown",
      "metadata": {
        "id": "LLc4eSgxvcBt"
      },
      "source": [
        "## Параметры"
      ]
    },
    {
      "cell_type": "code",
      "execution_count": 40,
      "metadata": {
        "id": "2ibxMUzlvdty"
      },
      "outputs": [],
      "source": [
        "DICTIONARY_PATH = '/content/drive/MyDrive/datasets/kartaslovsent.csv'"
      ]
    },
    {
      "cell_type": "markdown",
      "metadata": {
        "id": "awLnmXODvRnE"
      },
      "source": [
        "## Подготовка данных"
      ]
    },
    {
      "cell_type": "code",
      "execution_count": 41,
      "metadata": {
        "id": "hbcyoEeJvQUe",
        "colab": {
          "base_uri": "https://localhost:8080/",
          "height": 455
        },
        "outputId": "7f172b52-3360-47ad-e4cc-3d4cde9904f0"
      },
      "outputs": [
        {
          "output_type": "execute_result",
          "data": {
            "text/plain": [
              "               tag  value   pstv   ngtv   neut  dunno  \\\n",
              "term                                                    \n",
              "абажур        NEUT   0.08  0.185  0.037  0.580  0.198   \n",
              "аббатство     NEUT   0.10  0.192  0.038  0.578  0.192   \n",
              "аббревиатура  NEUT   0.08  0.196  0.000  0.630  0.174   \n",
              "абзац         NEUT   0.00  0.137  0.000  0.706  0.157   \n",
              "абиссинец     NEUT   0.28  0.151  0.113  0.245  0.491   \n",
              "...            ...    ...    ...    ...    ...    ...   \n",
              "ёмкость       NEUT   0.00  0.167  0.000  0.690  0.143   \n",
              "ёрзать        NGTV  -0.54  0.050  0.446  0.397  0.107   \n",
              "ёрничать      NGTV  -0.79  0.078  0.529  0.236  0.157   \n",
              "ёрш           NEUT   0.16  0.224  0.072  0.576  0.128   \n",
              "ёршик         NEUT   0.00  0.152  0.043  0.718  0.087   \n",
              "\n",
              "              pstvNgtvDisagreementRatio  \n",
              "term                                     \n",
              "абажур                             0.00  \n",
              "аббатство                          0.00  \n",
              "аббревиатура                       0.00  \n",
              "абзац                              0.00  \n",
              "абиссинец                          0.19  \n",
              "...                                 ...  \n",
              "ёмкость                            0.00  \n",
              "ёрзать                             0.00  \n",
              "ёрничать                           0.00  \n",
              "ёрш                                0.00  \n",
              "ёршик                              0.00  \n",
              "\n",
              "[46127 rows x 7 columns]"
            ],
            "text/html": [
              "\n",
              "  <div id=\"df-73f2f236-0540-4fad-963b-ba4bc8175b13\">\n",
              "    <div class=\"colab-df-container\">\n",
              "      <div>\n",
              "<style scoped>\n",
              "    .dataframe tbody tr th:only-of-type {\n",
              "        vertical-align: middle;\n",
              "    }\n",
              "\n",
              "    .dataframe tbody tr th {\n",
              "        vertical-align: top;\n",
              "    }\n",
              "\n",
              "    .dataframe thead th {\n",
              "        text-align: right;\n",
              "    }\n",
              "</style>\n",
              "<table border=\"1\" class=\"dataframe\">\n",
              "  <thead>\n",
              "    <tr style=\"text-align: right;\">\n",
              "      <th></th>\n",
              "      <th>tag</th>\n",
              "      <th>value</th>\n",
              "      <th>pstv</th>\n",
              "      <th>ngtv</th>\n",
              "      <th>neut</th>\n",
              "      <th>dunno</th>\n",
              "      <th>pstvNgtvDisagreementRatio</th>\n",
              "    </tr>\n",
              "    <tr>\n",
              "      <th>term</th>\n",
              "      <th></th>\n",
              "      <th></th>\n",
              "      <th></th>\n",
              "      <th></th>\n",
              "      <th></th>\n",
              "      <th></th>\n",
              "      <th></th>\n",
              "    </tr>\n",
              "  </thead>\n",
              "  <tbody>\n",
              "    <tr>\n",
              "      <th>абажур</th>\n",
              "      <td>NEUT</td>\n",
              "      <td>0.08</td>\n",
              "      <td>0.185</td>\n",
              "      <td>0.037</td>\n",
              "      <td>0.580</td>\n",
              "      <td>0.198</td>\n",
              "      <td>0.00</td>\n",
              "    </tr>\n",
              "    <tr>\n",
              "      <th>аббатство</th>\n",
              "      <td>NEUT</td>\n",
              "      <td>0.10</td>\n",
              "      <td>0.192</td>\n",
              "      <td>0.038</td>\n",
              "      <td>0.578</td>\n",
              "      <td>0.192</td>\n",
              "      <td>0.00</td>\n",
              "    </tr>\n",
              "    <tr>\n",
              "      <th>аббревиатура</th>\n",
              "      <td>NEUT</td>\n",
              "      <td>0.08</td>\n",
              "      <td>0.196</td>\n",
              "      <td>0.000</td>\n",
              "      <td>0.630</td>\n",
              "      <td>0.174</td>\n",
              "      <td>0.00</td>\n",
              "    </tr>\n",
              "    <tr>\n",
              "      <th>абзац</th>\n",
              "      <td>NEUT</td>\n",
              "      <td>0.00</td>\n",
              "      <td>0.137</td>\n",
              "      <td>0.000</td>\n",
              "      <td>0.706</td>\n",
              "      <td>0.157</td>\n",
              "      <td>0.00</td>\n",
              "    </tr>\n",
              "    <tr>\n",
              "      <th>абиссинец</th>\n",
              "      <td>NEUT</td>\n",
              "      <td>0.28</td>\n",
              "      <td>0.151</td>\n",
              "      <td>0.113</td>\n",
              "      <td>0.245</td>\n",
              "      <td>0.491</td>\n",
              "      <td>0.19</td>\n",
              "    </tr>\n",
              "    <tr>\n",
              "      <th>...</th>\n",
              "      <td>...</td>\n",
              "      <td>...</td>\n",
              "      <td>...</td>\n",
              "      <td>...</td>\n",
              "      <td>...</td>\n",
              "      <td>...</td>\n",
              "      <td>...</td>\n",
              "    </tr>\n",
              "    <tr>\n",
              "      <th>ёмкость</th>\n",
              "      <td>NEUT</td>\n",
              "      <td>0.00</td>\n",
              "      <td>0.167</td>\n",
              "      <td>0.000</td>\n",
              "      <td>0.690</td>\n",
              "      <td>0.143</td>\n",
              "      <td>0.00</td>\n",
              "    </tr>\n",
              "    <tr>\n",
              "      <th>ёрзать</th>\n",
              "      <td>NGTV</td>\n",
              "      <td>-0.54</td>\n",
              "      <td>0.050</td>\n",
              "      <td>0.446</td>\n",
              "      <td>0.397</td>\n",
              "      <td>0.107</td>\n",
              "      <td>0.00</td>\n",
              "    </tr>\n",
              "    <tr>\n",
              "      <th>ёрничать</th>\n",
              "      <td>NGTV</td>\n",
              "      <td>-0.79</td>\n",
              "      <td>0.078</td>\n",
              "      <td>0.529</td>\n",
              "      <td>0.236</td>\n",
              "      <td>0.157</td>\n",
              "      <td>0.00</td>\n",
              "    </tr>\n",
              "    <tr>\n",
              "      <th>ёрш</th>\n",
              "      <td>NEUT</td>\n",
              "      <td>0.16</td>\n",
              "      <td>0.224</td>\n",
              "      <td>0.072</td>\n",
              "      <td>0.576</td>\n",
              "      <td>0.128</td>\n",
              "      <td>0.00</td>\n",
              "    </tr>\n",
              "    <tr>\n",
              "      <th>ёршик</th>\n",
              "      <td>NEUT</td>\n",
              "      <td>0.00</td>\n",
              "      <td>0.152</td>\n",
              "      <td>0.043</td>\n",
              "      <td>0.718</td>\n",
              "      <td>0.087</td>\n",
              "      <td>0.00</td>\n",
              "    </tr>\n",
              "  </tbody>\n",
              "</table>\n",
              "<p>46127 rows × 7 columns</p>\n",
              "</div>\n",
              "      <button class=\"colab-df-convert\" onclick=\"convertToInteractive('df-73f2f236-0540-4fad-963b-ba4bc8175b13')\"\n",
              "              title=\"Convert this dataframe to an interactive table.\"\n",
              "              style=\"display:none;\">\n",
              "        \n",
              "  <svg xmlns=\"http://www.w3.org/2000/svg\" height=\"24px\"viewBox=\"0 0 24 24\"\n",
              "       width=\"24px\">\n",
              "    <path d=\"M0 0h24v24H0V0z\" fill=\"none\"/>\n",
              "    <path d=\"M18.56 5.44l.94 2.06.94-2.06 2.06-.94-2.06-.94-.94-2.06-.94 2.06-2.06.94zm-11 1L8.5 8.5l.94-2.06 2.06-.94-2.06-.94L8.5 2.5l-.94 2.06-2.06.94zm10 10l.94 2.06.94-2.06 2.06-.94-2.06-.94-.94-2.06-.94 2.06-2.06.94z\"/><path d=\"M17.41 7.96l-1.37-1.37c-.4-.4-.92-.59-1.43-.59-.52 0-1.04.2-1.43.59L10.3 9.45l-7.72 7.72c-.78.78-.78 2.05 0 2.83L4 21.41c.39.39.9.59 1.41.59.51 0 1.02-.2 1.41-.59l7.78-7.78 2.81-2.81c.8-.78.8-2.07 0-2.86zM5.41 20L4 18.59l7.72-7.72 1.47 1.35L5.41 20z\"/>\n",
              "  </svg>\n",
              "      </button>\n",
              "      \n",
              "  <style>\n",
              "    .colab-df-container {\n",
              "      display:flex;\n",
              "      flex-wrap:wrap;\n",
              "      gap: 12px;\n",
              "    }\n",
              "\n",
              "    .colab-df-convert {\n",
              "      background-color: #E8F0FE;\n",
              "      border: none;\n",
              "      border-radius: 50%;\n",
              "      cursor: pointer;\n",
              "      display: none;\n",
              "      fill: #1967D2;\n",
              "      height: 32px;\n",
              "      padding: 0 0 0 0;\n",
              "      width: 32px;\n",
              "    }\n",
              "\n",
              "    .colab-df-convert:hover {\n",
              "      background-color: #E2EBFA;\n",
              "      box-shadow: 0px 1px 2px rgba(60, 64, 67, 0.3), 0px 1px 3px 1px rgba(60, 64, 67, 0.15);\n",
              "      fill: #174EA6;\n",
              "    }\n",
              "\n",
              "    [theme=dark] .colab-df-convert {\n",
              "      background-color: #3B4455;\n",
              "      fill: #D2E3FC;\n",
              "    }\n",
              "\n",
              "    [theme=dark] .colab-df-convert:hover {\n",
              "      background-color: #434B5C;\n",
              "      box-shadow: 0px 1px 3px 1px rgba(0, 0, 0, 0.15);\n",
              "      filter: drop-shadow(0px 1px 2px rgba(0, 0, 0, 0.3));\n",
              "      fill: #FFFFFF;\n",
              "    }\n",
              "  </style>\n",
              "\n",
              "      <script>\n",
              "        const buttonEl =\n",
              "          document.querySelector('#df-73f2f236-0540-4fad-963b-ba4bc8175b13 button.colab-df-convert');\n",
              "        buttonEl.style.display =\n",
              "          google.colab.kernel.accessAllowed ? 'block' : 'none';\n",
              "\n",
              "        async function convertToInteractive(key) {\n",
              "          const element = document.querySelector('#df-73f2f236-0540-4fad-963b-ba4bc8175b13');\n",
              "          const dataTable =\n",
              "            await google.colab.kernel.invokeFunction('convertToInteractive',\n",
              "                                                     [key], {});\n",
              "          if (!dataTable) return;\n",
              "\n",
              "          const docLinkHtml = 'Like what you see? Visit the ' +\n",
              "            '<a target=\"_blank\" href=https://colab.research.google.com/notebooks/data_table.ipynb>data table notebook</a>'\n",
              "            + ' to learn more about interactive tables.';\n",
              "          element.innerHTML = '';\n",
              "          dataTable['output_type'] = 'display_data';\n",
              "          await google.colab.output.renderOutput(dataTable, element);\n",
              "          const docLink = document.createElement('div');\n",
              "          docLink.innerHTML = docLinkHtml;\n",
              "          element.appendChild(docLink);\n",
              "        }\n",
              "      </script>\n",
              "    </div>\n",
              "  </div>\n",
              "  "
            ]
          },
          "metadata": {},
          "execution_count": 41
        }
      ],
      "source": [
        "dictionary = pd.read_csv(DICTIONARY_PATH, delimiter=';').set_index('term')\n",
        "dictionary"
      ]
    },
    {
      "cell_type": "code",
      "execution_count": 44,
      "metadata": {
        "id": "rVGwDWTdyzn9"
      },
      "outputs": [],
      "source": [
        "MIXED_THRESHOLD = 0.223\n",
        "NEGATIVE_THRESHOLD = 0.2\n",
        "\n",
        "def calculate_tonalty(text: str, tags: pd.Series) -> float:\n",
        "  count_positive = 0\n",
        "  count_neutral = 0\n",
        "  count_negative = 0\n",
        "  for word in word_tokenize(text):\n",
        "    if word in tags:\n",
        "      tag = tags[word]\n",
        "      if tag == 'PSTV':\n",
        "        count_positive += 1\n",
        "      elif tag == 'NEUT':\n",
        "        count_neutral += 1\n",
        "      elif tag == 'NGTV':\n",
        "        count_negative += 1\n",
        "  total_count = count_positive + count_neutral + count_negative\n",
        "  if total_count == 0:\n",
        "    return 2.0\n",
        "  count_positive /= total_count\n",
        "  count_negative /= total_count\n",
        "  if abs(count_positive - count_negative) < MIXED_THRESHOLD:\n",
        "    return 1.0\n",
        "  elif count_negative > NEGATIVE_THRESHOLD:\n",
        "    return 0.0\n",
        "  else:\n",
        "    return 2.0"
      ]
    },
    {
      "cell_type": "code",
      "execution_count": 45,
      "metadata": {
        "id": "3BDCyIxa05kS",
        "colab": {
          "base_uri": "https://localhost:8080/",
          "height": 423
        },
        "outputId": "fcc9637b-c4e0-48ed-c03d-38ce216dbe97"
      },
      "outputs": [
        {
          "output_type": "execute_result",
          "data": {
            "text/plain": [
              "                                                     data  target  tonalty\n",
              "0       отзыв доставка заказать разный пицца сочетание...     2.0      1.0\n",
              "1       сделать заказ пройти пицца телефон говорить да...     0.0      1.0\n",
              "2       интерьер требовать обновление завтрак скромный...     1.0      1.0\n",
              "3       бар полный еда понравиться пиво всё боченок оч...     0.0      2.0\n",
              "4       хороший место посидеть друг прекрасный выбор в...     2.0      2.0\n",
              "...                                                   ...     ...      ...\n",
              "169014  мочь посоветовать это кафе алкогольный коктейл...     1.0      1.0\n",
              "169015                      отличный место отдых компания     2.0      2.0\n",
              "169016  гость ресторан парковаться неположенный место ...     0.0      1.0\n",
              "169017                 чай кофе сладость поесть бутерброд     1.0      2.0\n",
              "169018                                  стандарт качество     1.0      1.0\n",
              "\n",
              "[169019 rows x 3 columns]"
            ],
            "text/html": [
              "\n",
              "  <div id=\"df-bf4f1f76-edf2-4549-a8db-cf26161ce4bb\">\n",
              "    <div class=\"colab-df-container\">\n",
              "      <div>\n",
              "<style scoped>\n",
              "    .dataframe tbody tr th:only-of-type {\n",
              "        vertical-align: middle;\n",
              "    }\n",
              "\n",
              "    .dataframe tbody tr th {\n",
              "        vertical-align: top;\n",
              "    }\n",
              "\n",
              "    .dataframe thead th {\n",
              "        text-align: right;\n",
              "    }\n",
              "</style>\n",
              "<table border=\"1\" class=\"dataframe\">\n",
              "  <thead>\n",
              "    <tr style=\"text-align: right;\">\n",
              "      <th></th>\n",
              "      <th>data</th>\n",
              "      <th>target</th>\n",
              "      <th>tonalty</th>\n",
              "    </tr>\n",
              "  </thead>\n",
              "  <tbody>\n",
              "    <tr>\n",
              "      <th>0</th>\n",
              "      <td>отзыв доставка заказать разный пицца сочетание...</td>\n",
              "      <td>2.0</td>\n",
              "      <td>1.0</td>\n",
              "    </tr>\n",
              "    <tr>\n",
              "      <th>1</th>\n",
              "      <td>сделать заказ пройти пицца телефон говорить да...</td>\n",
              "      <td>0.0</td>\n",
              "      <td>1.0</td>\n",
              "    </tr>\n",
              "    <tr>\n",
              "      <th>2</th>\n",
              "      <td>интерьер требовать обновление завтрак скромный...</td>\n",
              "      <td>1.0</td>\n",
              "      <td>1.0</td>\n",
              "    </tr>\n",
              "    <tr>\n",
              "      <th>3</th>\n",
              "      <td>бар полный еда понравиться пиво всё боченок оч...</td>\n",
              "      <td>0.0</td>\n",
              "      <td>2.0</td>\n",
              "    </tr>\n",
              "    <tr>\n",
              "      <th>4</th>\n",
              "      <td>хороший место посидеть друг прекрасный выбор в...</td>\n",
              "      <td>2.0</td>\n",
              "      <td>2.0</td>\n",
              "    </tr>\n",
              "    <tr>\n",
              "      <th>...</th>\n",
              "      <td>...</td>\n",
              "      <td>...</td>\n",
              "      <td>...</td>\n",
              "    </tr>\n",
              "    <tr>\n",
              "      <th>169014</th>\n",
              "      <td>мочь посоветовать это кафе алкогольный коктейл...</td>\n",
              "      <td>1.0</td>\n",
              "      <td>1.0</td>\n",
              "    </tr>\n",
              "    <tr>\n",
              "      <th>169015</th>\n",
              "      <td>отличный место отдых компания</td>\n",
              "      <td>2.0</td>\n",
              "      <td>2.0</td>\n",
              "    </tr>\n",
              "    <tr>\n",
              "      <th>169016</th>\n",
              "      <td>гость ресторан парковаться неположенный место ...</td>\n",
              "      <td>0.0</td>\n",
              "      <td>1.0</td>\n",
              "    </tr>\n",
              "    <tr>\n",
              "      <th>169017</th>\n",
              "      <td>чай кофе сладость поесть бутерброд</td>\n",
              "      <td>1.0</td>\n",
              "      <td>2.0</td>\n",
              "    </tr>\n",
              "    <tr>\n",
              "      <th>169018</th>\n",
              "      <td>стандарт качество</td>\n",
              "      <td>1.0</td>\n",
              "      <td>1.0</td>\n",
              "    </tr>\n",
              "  </tbody>\n",
              "</table>\n",
              "<p>169019 rows × 3 columns</p>\n",
              "</div>\n",
              "      <button class=\"colab-df-convert\" onclick=\"convertToInteractive('df-bf4f1f76-edf2-4549-a8db-cf26161ce4bb')\"\n",
              "              title=\"Convert this dataframe to an interactive table.\"\n",
              "              style=\"display:none;\">\n",
              "        \n",
              "  <svg xmlns=\"http://www.w3.org/2000/svg\" height=\"24px\"viewBox=\"0 0 24 24\"\n",
              "       width=\"24px\">\n",
              "    <path d=\"M0 0h24v24H0V0z\" fill=\"none\"/>\n",
              "    <path d=\"M18.56 5.44l.94 2.06.94-2.06 2.06-.94-2.06-.94-.94-2.06-.94 2.06-2.06.94zm-11 1L8.5 8.5l.94-2.06 2.06-.94-2.06-.94L8.5 2.5l-.94 2.06-2.06.94zm10 10l.94 2.06.94-2.06 2.06-.94-2.06-.94-.94-2.06-.94 2.06-2.06.94z\"/><path d=\"M17.41 7.96l-1.37-1.37c-.4-.4-.92-.59-1.43-.59-.52 0-1.04.2-1.43.59L10.3 9.45l-7.72 7.72c-.78.78-.78 2.05 0 2.83L4 21.41c.39.39.9.59 1.41.59.51 0 1.02-.2 1.41-.59l7.78-7.78 2.81-2.81c.8-.78.8-2.07 0-2.86zM5.41 20L4 18.59l7.72-7.72 1.47 1.35L5.41 20z\"/>\n",
              "  </svg>\n",
              "      </button>\n",
              "      \n",
              "  <style>\n",
              "    .colab-df-container {\n",
              "      display:flex;\n",
              "      flex-wrap:wrap;\n",
              "      gap: 12px;\n",
              "    }\n",
              "\n",
              "    .colab-df-convert {\n",
              "      background-color: #E8F0FE;\n",
              "      border: none;\n",
              "      border-radius: 50%;\n",
              "      cursor: pointer;\n",
              "      display: none;\n",
              "      fill: #1967D2;\n",
              "      height: 32px;\n",
              "      padding: 0 0 0 0;\n",
              "      width: 32px;\n",
              "    }\n",
              "\n",
              "    .colab-df-convert:hover {\n",
              "      background-color: #E2EBFA;\n",
              "      box-shadow: 0px 1px 2px rgba(60, 64, 67, 0.3), 0px 1px 3px 1px rgba(60, 64, 67, 0.15);\n",
              "      fill: #174EA6;\n",
              "    }\n",
              "\n",
              "    [theme=dark] .colab-df-convert {\n",
              "      background-color: #3B4455;\n",
              "      fill: #D2E3FC;\n",
              "    }\n",
              "\n",
              "    [theme=dark] .colab-df-convert:hover {\n",
              "      background-color: #434B5C;\n",
              "      box-shadow: 0px 1px 3px 1px rgba(0, 0, 0, 0.15);\n",
              "      filter: drop-shadow(0px 1px 2px rgba(0, 0, 0, 0.3));\n",
              "      fill: #FFFFFF;\n",
              "    }\n",
              "  </style>\n",
              "\n",
              "      <script>\n",
              "        const buttonEl =\n",
              "          document.querySelector('#df-bf4f1f76-edf2-4549-a8db-cf26161ce4bb button.colab-df-convert');\n",
              "        buttonEl.style.display =\n",
              "          google.colab.kernel.accessAllowed ? 'block' : 'none';\n",
              "\n",
              "        async function convertToInteractive(key) {\n",
              "          const element = document.querySelector('#df-bf4f1f76-edf2-4549-a8db-cf26161ce4bb');\n",
              "          const dataTable =\n",
              "            await google.colab.kernel.invokeFunction('convertToInteractive',\n",
              "                                                     [key], {});\n",
              "          if (!dataTable) return;\n",
              "\n",
              "          const docLinkHtml = 'Like what you see? Visit the ' +\n",
              "            '<a target=\"_blank\" href=https://colab.research.google.com/notebooks/data_table.ipynb>data table notebook</a>'\n",
              "            + ' to learn more about interactive tables.';\n",
              "          element.innerHTML = '';\n",
              "          dataTable['output_type'] = 'display_data';\n",
              "          await google.colab.output.renderOutput(dataTable, element);\n",
              "          const docLink = document.createElement('div');\n",
              "          docLink.innerHTML = docLinkHtml;\n",
              "          element.appendChild(docLink);\n",
              "        }\n",
              "      </script>\n",
              "    </div>\n",
              "  </div>\n",
              "  "
            ]
          },
          "metadata": {},
          "execution_count": 45
        }
      ],
      "source": [
        "data_with_tonalty = data.copy(deep=True)\n",
        "data_with_tonalty['tonalty'] = data_with_tonalty['data'].map(lambda x: calculate_tonalty(x, dictionary['tag']))\n",
        "data_with_tonalty"
      ]
    },
    {
      "cell_type": "code",
      "source": [
        "(data_with_tonalty['target'] == data_with_tonalty['tonalty']).sum()/data_with_tonalty.shape[0]"
      ],
      "metadata": {
        "id": "-RJn2oODcila",
        "colab": {
          "base_uri": "https://localhost:8080/"
        },
        "outputId": "39f7db19-e12a-4127-ed7f-9130fae4f59e"
      },
      "execution_count": 46,
      "outputs": [
        {
          "output_type": "execute_result",
          "data": {
            "text/plain": [
              "0.5204207810956165"
            ]
          },
          "metadata": {},
          "execution_count": 46
        }
      ]
    },
    {
      "cell_type": "markdown",
      "source": [
        "# Загрузка данных для расчета метрик"
      ],
      "metadata": {
        "id": "PShoPGzeBzUX"
      }
    },
    {
      "cell_type": "code",
      "source": [
        "data_dataset = ReviewDataset(data['data'], data['target'].astype(int), vocab)"
      ],
      "metadata": {
        "id": "QIo-pIW1B4pD"
      },
      "execution_count": 47,
      "outputs": []
    },
    {
      "cell_type": "code",
      "source": [
        "data_dataloader = DataLoader(data_dataset, batch_size=train_dataloader.batch_size, shuffle=True, drop_last=True)"
      ],
      "metadata": {
        "id": "n3Ca0Og8CDie"
      },
      "execution_count": 48,
      "outputs": []
    },
    {
      "cell_type": "code",
      "source": [
        "nn_pred = []\n",
        "nn_true = []\n",
        "with torch.no_grad():\n",
        "  for X, y in data_dataloader:\n",
        "    nn_true.append(y)\n",
        "    X, y = X.to(DEVICE), y.to(DEVICE)\n",
        "    pred = net(X)\n",
        "    nn_pred.append(pred.cpu().detach().argmax(1))\n",
        "nn_pred = torch.cat(nn_pred)\n",
        "nn_true = torch.cat(nn_true)"
      ],
      "metadata": {
        "id": "eEPqSXh9CXO-"
      },
      "execution_count": 53,
      "outputs": []
    },
    {
      "cell_type": "code",
      "source": [
        "metrics(nn_true, nn_pred, data_with_tonalty['target'], data_with_tonalty['tonalty'])"
      ],
      "metadata": {
        "colab": {
          "base_uri": "https://localhost:8080/",
          "height": 175
        },
        "id": "6wm-JGsJDF6Q",
        "outputId": "34acd9a2-0f3e-4fd4-ffc0-a1ed17b374b5"
      },
      "execution_count": 70,
      "outputs": [
        {
          "output_type": "execute_result",
          "data": {
            "text/plain": [
              "                 NN      Dict\n",
              "accuracy   0.874375  0.520421\n",
              "precision  0.874822  0.530811\n",
              "recall      0.87801  0.460854\n",
              "f1         0.876315  0.432036"
            ],
            "text/html": [
              "\n",
              "  <div id=\"df-f70968ac-e26e-4513-b77b-dbab3ff87e87\">\n",
              "    <div class=\"colab-df-container\">\n",
              "      <div>\n",
              "<style scoped>\n",
              "    .dataframe tbody tr th:only-of-type {\n",
              "        vertical-align: middle;\n",
              "    }\n",
              "\n",
              "    .dataframe tbody tr th {\n",
              "        vertical-align: top;\n",
              "    }\n",
              "\n",
              "    .dataframe thead th {\n",
              "        text-align: right;\n",
              "    }\n",
              "</style>\n",
              "<table border=\"1\" class=\"dataframe\">\n",
              "  <thead>\n",
              "    <tr style=\"text-align: right;\">\n",
              "      <th></th>\n",
              "      <th>NN</th>\n",
              "      <th>Dict</th>\n",
              "    </tr>\n",
              "  </thead>\n",
              "  <tbody>\n",
              "    <tr>\n",
              "      <th>accuracy</th>\n",
              "      <td>0.874375</td>\n",
              "      <td>0.520421</td>\n",
              "    </tr>\n",
              "    <tr>\n",
              "      <th>precision</th>\n",
              "      <td>0.874822</td>\n",
              "      <td>0.530811</td>\n",
              "    </tr>\n",
              "    <tr>\n",
              "      <th>recall</th>\n",
              "      <td>0.87801</td>\n",
              "      <td>0.460854</td>\n",
              "    </tr>\n",
              "    <tr>\n",
              "      <th>f1</th>\n",
              "      <td>0.876315</td>\n",
              "      <td>0.432036</td>\n",
              "    </tr>\n",
              "  </tbody>\n",
              "</table>\n",
              "</div>\n",
              "      <button class=\"colab-df-convert\" onclick=\"convertToInteractive('df-f70968ac-e26e-4513-b77b-dbab3ff87e87')\"\n",
              "              title=\"Convert this dataframe to an interactive table.\"\n",
              "              style=\"display:none;\">\n",
              "        \n",
              "  <svg xmlns=\"http://www.w3.org/2000/svg\" height=\"24px\"viewBox=\"0 0 24 24\"\n",
              "       width=\"24px\">\n",
              "    <path d=\"M0 0h24v24H0V0z\" fill=\"none\"/>\n",
              "    <path d=\"M18.56 5.44l.94 2.06.94-2.06 2.06-.94-2.06-.94-.94-2.06-.94 2.06-2.06.94zm-11 1L8.5 8.5l.94-2.06 2.06-.94-2.06-.94L8.5 2.5l-.94 2.06-2.06.94zm10 10l.94 2.06.94-2.06 2.06-.94-2.06-.94-.94-2.06-.94 2.06-2.06.94z\"/><path d=\"M17.41 7.96l-1.37-1.37c-.4-.4-.92-.59-1.43-.59-.52 0-1.04.2-1.43.59L10.3 9.45l-7.72 7.72c-.78.78-.78 2.05 0 2.83L4 21.41c.39.39.9.59 1.41.59.51 0 1.02-.2 1.41-.59l7.78-7.78 2.81-2.81c.8-.78.8-2.07 0-2.86zM5.41 20L4 18.59l7.72-7.72 1.47 1.35L5.41 20z\"/>\n",
              "  </svg>\n",
              "      </button>\n",
              "      \n",
              "  <style>\n",
              "    .colab-df-container {\n",
              "      display:flex;\n",
              "      flex-wrap:wrap;\n",
              "      gap: 12px;\n",
              "    }\n",
              "\n",
              "    .colab-df-convert {\n",
              "      background-color: #E8F0FE;\n",
              "      border: none;\n",
              "      border-radius: 50%;\n",
              "      cursor: pointer;\n",
              "      display: none;\n",
              "      fill: #1967D2;\n",
              "      height: 32px;\n",
              "      padding: 0 0 0 0;\n",
              "      width: 32px;\n",
              "    }\n",
              "\n",
              "    .colab-df-convert:hover {\n",
              "      background-color: #E2EBFA;\n",
              "      box-shadow: 0px 1px 2px rgba(60, 64, 67, 0.3), 0px 1px 3px 1px rgba(60, 64, 67, 0.15);\n",
              "      fill: #174EA6;\n",
              "    }\n",
              "\n",
              "    [theme=dark] .colab-df-convert {\n",
              "      background-color: #3B4455;\n",
              "      fill: #D2E3FC;\n",
              "    }\n",
              "\n",
              "    [theme=dark] .colab-df-convert:hover {\n",
              "      background-color: #434B5C;\n",
              "      box-shadow: 0px 1px 3px 1px rgba(0, 0, 0, 0.15);\n",
              "      filter: drop-shadow(0px 1px 2px rgba(0, 0, 0, 0.3));\n",
              "      fill: #FFFFFF;\n",
              "    }\n",
              "  </style>\n",
              "\n",
              "      <script>\n",
              "        const buttonEl =\n",
              "          document.querySelector('#df-f70968ac-e26e-4513-b77b-dbab3ff87e87 button.colab-df-convert');\n",
              "        buttonEl.style.display =\n",
              "          google.colab.kernel.accessAllowed ? 'block' : 'none';\n",
              "\n",
              "        async function convertToInteractive(key) {\n",
              "          const element = document.querySelector('#df-f70968ac-e26e-4513-b77b-dbab3ff87e87');\n",
              "          const dataTable =\n",
              "            await google.colab.kernel.invokeFunction('convertToInteractive',\n",
              "                                                     [key], {});\n",
              "          if (!dataTable) return;\n",
              "\n",
              "          const docLinkHtml = 'Like what you see? Visit the ' +\n",
              "            '<a target=\"_blank\" href=https://colab.research.google.com/notebooks/data_table.ipynb>data table notebook</a>'\n",
              "            + ' to learn more about interactive tables.';\n",
              "          element.innerHTML = '';\n",
              "          dataTable['output_type'] = 'display_data';\n",
              "          await google.colab.output.renderOutput(dataTable, element);\n",
              "          const docLink = document.createElement('div');\n",
              "          docLink.innerHTML = docLinkHtml;\n",
              "          element.appendChild(docLink);\n",
              "        }\n",
              "      </script>\n",
              "    </div>\n",
              "  </div>\n",
              "  "
            ]
          },
          "metadata": {},
          "execution_count": 70
        }
      ]
    }
  ],
  "metadata": {
    "colab": {
      "provenance": [],
      "gpuType": "T4"
    },
    "gpuClass": "standard",
    "kernelspec": {
      "display_name": "Python 3",
      "name": "python3"
    },
    "language_info": {
      "name": "python"
    },
    "accelerator": "GPU"
  },
  "nbformat": 4,
  "nbformat_minor": 0
}